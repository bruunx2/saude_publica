{
 "cells": [
  {
   "cell_type": "code",
   "execution_count": null,
   "id": "0bee6d61-5ed3-4588-92e8-979d52594fd8",
   "metadata": {},
   "outputs": [],
   "source": [
    "import pandas as pd\n",
    "from sklearn.preprocessing import LabelEncoder\n",
    "from datetime import datetime"
   ]
  },
  {
   "cell_type": "code",
   "execution_count": null,
   "id": "ffa0731d-66e6-4185-92d1-716549194868",
   "metadata": {},
   "outputs": [],
   "source": [
    "df = pd.read_csv( r\"D:\\OneDrive\\Área de Trabalho\\saude\\saude.csv\", sep=\";\" , encoding=\"latin-1\",low_memory=False, dtype=\"string\")"
   ]
  },
  {
   "cell_type": "code",
   "execution_count": null,
   "id": "a89d9ef3-2f86-4f04-8486-8b5d722113cd",
   "metadata": {},
   "outputs": [],
   "source": [
    "coluna_numerica = [  'Qtde Prescrita Farmácia Curitibana',\n",
    "                     'Qtde Dispensada Farmácia Curitibana',\n",
    "                     'Qtde de Medicamento Não Padronizado',\n",
    "                     'Cômodos',\n",
    "                     'cod_usuario',\n",
    "                     'origem_usuario',\n",
    "                     'residente',\n",
    "                     'cod_profissional' ]\n",
    "\n",
    "for col in coluna_numerica:\n",
    "    df[col] = pd.to_numeric(  df[col].str.replace(',', '.')  )\n",
    "\n",
    "for col in df.columns.tolist():\n",
    "    if df[ col ].dtype == \"string\":\n",
    "        df[col] = df[col].fillna(\"-\")\n",
    "\n",
    "\n",
    "df.loc[ df['Data do Internamento'] == '-', 'Data do Internamento']  = \"01/01/2000 00:00:00\""
   ]
  },
  {
   "cell_type": "code",
   "execution_count": 181,
   "id": "16d68749-f65b-40dd-8508-aea170e09ce6",
   "metadata": {},
   "outputs": [],
   "source": [
    "colunas_a_deconsiderar =  [  'Tipo de Unidade',\n",
    "                             'Código da Unidade',\n",
    "                             'Código do Procedimento',\n",
    "                             'Código do CBO',\n",
    "                             'Código do CID',\n",
    "                           ]       \n",
    "\n",
    "df = df.drop( columns = colunas_a_deconsiderar )"
   ]
  },
  {
   "cell_type": "code",
   "execution_count": 182,
   "id": "8f6d62d6-f1e2-4cbe-b562-07b2676db31d",
   "metadata": {},
   "outputs": [],
   "source": [
    "columns_enconder = [ 'Sexo',\n",
    "                     'Descrição da Unidade',\n",
    "                     'Descrição do Procedimento',\n",
    "                     'Descrição do CBO',\n",
    "                     'Descrição do CID',\n",
    "                     'Solicitação de Exames',\n",
    "                     'Encaminhamento para Atendimento Especialista',\n",
    "                     'Área de Atuação',\n",
    "                     'Desencadeou Internamento',                    \n",
    "                     'Estabelecimento Solicitante',\n",
    "                     'Estabelecimento Destino',\n",
    "                     'CID do Internamento',\n",
    "                     'Tratamento no Domicílio',\n",
    "                     'Abastecimento',\n",
    "                     'Energia Elétrica',\n",
    "                     'Tipo de Habitação',\n",
    "                     'Destino Lixo',\n",
    "                     'Fezes/Urina',          \n",
    "                     'Em Caso de Doença',\n",
    "                     'Grupo Comunitário',\n",
    "                     'Meio de Comunicacao',\n",
    "                     'Meio de Transporte',\n",
    "                     'Municício',\n",
    "                     'Bairro',\n",
    "                     'Nacionalidade',\n",
    "                     ]\n",
    "\n",
    "column_encoder = {}\n",
    "for column in columns_enconder:\n",
    "    column_encoder[ column ]  = LabelEncoder()\n",
    "    column_encoder[ column ].fit( df[ column].unique().tolist() )\n",
    "    df[ column ] = column_encoder[ column ].transform(df[ column ])"
   ]
  },
  {
   "cell_type": "code",
   "execution_count": 183,
   "id": "92994516-d0cd-42e3-b0a4-cb0fc5caf250",
   "metadata": {},
   "outputs": [],
   "source": [
    "df['Data do Atendimento'] = pd.to_datetime( df['Data do Atendimento'], format = \"%d/%m/%Y %H:%M:%S\" )\n",
    "df['Data de Nascimento'] = pd.to_datetime( df['Data de Nascimento'] , format = \"%d/%m/%Y %H:%M:%S\")\n",
    "df['Data do Internamento']  = pd.to_datetime( df['Data do Internamento']  , format = \"%d/%m/%Y %H:%M:%S\", errors=\"coerce\")"
   ]
  },
  {
   "cell_type": "code",
   "execution_count": 217,
   "id": "21690a27-aae1-41d2-b25a-68c9dd55978f",
   "metadata": {},
   "outputs": [],
   "source": [
    "df['Data do Atendimento'] = df['Data do Atendimento'].astype('int64')// 1e9\n",
    "df['Data de Nascimento'] = df['Data de Nascimento'].astype('int64')// 1e9\n",
    "df['Data do Internamento'] = pd.to_datetime(df['Data do Internamento'])\n",
    "\n",
    "df['Data do Internamento'] = df['Data do Internamento'].astype('int64') // 1e9\n"
   ]
  },
  {
   "cell_type": "code",
   "execution_count": 219,
   "id": "9735c626-e836-4799-a6f5-d85717f223c3",
   "metadata": {},
   "outputs": [],
   "source": [
    "df.loc[ df['Data do Internamento'] == 946684800.0, 'Data do Internamento' ] = 0.0"
   ]
  }
 ],
 "metadata": {
  "kernelspec": {
   "display_name": "Python 3 (ipykernel)",
   "language": "python",
   "name": "python3"
  },
  "language_info": {
   "codemirror_mode": {
    "name": "ipython",
    "version": 3
   },
   "file_extension": ".py",
   "mimetype": "text/x-python",
   "name": "python",
   "nbconvert_exporter": "python",
   "pygments_lexer": "ipython3",
   "version": "3.11.3"
  }
 },
 "nbformat": 4,
 "nbformat_minor": 5
}
